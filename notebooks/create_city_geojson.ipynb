{
 "cells": [
  {
   "cell_type": "markdown",
   "metadata": {},
   "source": [
    "# GeoJSON parser \n",
    "Script to parse the overall Texas GeoJSON file and take out the zipcode boundaries for each city  \n",
    "Producing a chloropleth using the entire GeoJSON file for all 2000 counties for Texas requires a full 3 minute render. By taking out the individual cities, we can shorten render time to allow them to be rendered in real-time on a Dashboard"
   ]
  },
  {
   "cell_type": "code",
   "execution_count": 1,
   "metadata": {},
   "outputs": [],
   "source": [
    "import json\n",
    "import csv"
   ]
  },
  {
   "cell_type": "code",
   "execution_count": 11,
   "metadata": {},
   "outputs": [],
   "source": [
    "with open('../data/tx_texas_zip_codes_geo.min.json') as f:\n",
    "    data = json.load(f)"
   ]
  },
  {
   "cell_type": "code",
   "execution_count": 12,
   "metadata": {},
   "outputs": [],
   "source": [
    "houston = []\n",
    "dfw = []\n",
    "sa = []\n",
    "austin = []"
   ]
  },
  {
   "cell_type": "code",
   "execution_count": 13,
   "metadata": {},
   "outputs": [],
   "source": [
    "with open(\"../data/clean_data/zipcode_metro.csv\", 'r') as csvfile:\n",
    "    csvreader = csv.reader(csvfile, delimiter=\",\")\n",
    "    header = next(csvreader)\n",
    "    for row in csvreader:\n",
    "        zipcode = row[0]\n",
    "        metro = row[1]\n",
    "        if metro == \"Houston\":\n",
    "            houston.append(int(zipcode))\n",
    "        elif metro == \"Austin\":\n",
    "            austin.append(int(zipcode))\n",
    "        elif metro == \"Dallas-Fort Worth\":\n",
    "            dfw.append(int(zipcode))\n",
    "        elif metro == \"San Antonio\":\n",
    "            sa.append(int(zipcode))"
   ]
  },
  {
   "cell_type": "code",
   "execution_count": 16,
   "metadata": {},
   "outputs": [],
   "source": [
    "houston_json = {}\n",
    "houston_json[\"type\"] = data[\"type\"]\n",
    "houston_json[\"features\"] = []\n",
    "for dict in data['features']:\n",
    "    if int(dict[\"properties\"][\"ZCTA5CE10\"]) in houston:\n",
    "        houston_json[\"features\"].append(dict)\n",
    "        \n",
    "dfw_json = {}\n",
    "dfw_json[\"type\"] = data[\"type\"]\n",
    "dfw_json[\"features\"] = []\n",
    "for dict in data['features']:\n",
    "    if int(dict[\"properties\"][\"ZCTA5CE10\"]) in dfw:\n",
    "        dfw_json[\"features\"].append(dict)\n",
    "        \n",
    "sa_json = {}\n",
    "sa_json[\"type\"] = data[\"type\"]\n",
    "sa_json[\"features\"] = []\n",
    "for dict in data['features']:\n",
    "    if int(dict[\"properties\"][\"ZCTA5CE10\"]) in sa:\n",
    "        sa_json[\"features\"].append(dict)\n",
    "        \n",
    "austin_json = {}\n",
    "austin_json[\"type\"] = data[\"type\"]\n",
    "austin_json[\"features\"] = []\n",
    "for dict in data['features']:\n",
    "    if int(dict[\"properties\"][\"ZCTA5CE10\"]) in austin:\n",
    "        austin_json[\"features\"].append(dict)"
   ]
  },
  {
   "cell_type": "code",
   "execution_count": 17,
   "metadata": {},
   "outputs": [],
   "source": [
    "with open('../data/clean_data/houston_geo.json', 'w') as outfile:\n",
    "    json.dump(houston_json, outfile)\n",
    "\n",
    "with open('../data/clean_data/dfw_geo.json', 'w') as outfile:\n",
    "    json.dump(dfw_json, outfile)\n",
    "\n",
    "with open('../data/clean_data/sa_geo.json', 'w') as outfile:\n",
    "    json.dump(sa_json, outfile)\n",
    "    \n",
    "with open('../data/clean_data/austin_geo.json', 'w') as outfile:\n",
    "    json.dump(austin_json, outfile)"
   ]
  },
  {
   "cell_type": "code",
   "execution_count": null,
   "metadata": {},
   "outputs": [],
   "source": []
  }
 ],
 "metadata": {
  "kernelspec": {
   "display_name": "Python [conda env:.conda-pyvizenv] *",
   "language": "python",
   "name": "conda-env-.conda-pyvizenv-py"
  },
  "language_info": {
   "codemirror_mode": {
    "name": "ipython",
    "version": 3
   },
   "file_extension": ".py",
   "mimetype": "text/x-python",
   "name": "python",
   "nbconvert_exporter": "python",
   "pygments_lexer": "ipython3",
   "version": "3.7.9"
  }
 },
 "nbformat": 4,
 "nbformat_minor": 4
}
