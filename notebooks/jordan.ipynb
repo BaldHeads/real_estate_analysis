{
 "cells": [
  {
   "cell_type": "markdown",
   "id": "removed-liberal",
   "metadata": {},
   "source": [
    "# Data Cleaning"
   ]
  },
  {
   "cell_type": "code",
   "execution_count": 1,
   "id": "chicken-bailey",
   "metadata": {},
   "outputs": [],
   "source": [
    "# imports\n",
    "import os \n",
    "import pandas as pd\n",
    "import numpy as np\n",
    "from pathlib import Path\n",
    "import seaborn as sns\n"
   ]
  },
  {
   "cell_type": "code",
   "execution_count": null,
   "id": "packed-bottom",
   "metadata": {},
   "outputs": [],
   "source": [
    "# df = pd.read_csv(\"Data/godknowswhere\")"
   ]
  }
 ],
 "metadata": {
  "kernelspec": {
   "display_name": "Python 3",
   "language": "python",
   "name": "python3"
  },
  "language_info": {
   "codemirror_mode": {
    "name": "ipython",
    "version": 3
   },
   "file_extension": ".py",
   "mimetype": "text/x-python",
   "name": "python",
   "nbconvert_exporter": "python",
   "pygments_lexer": "ipython3",
   "version": "3.8.5"
  }
 },
 "nbformat": 4,
 "nbformat_minor": 5
}
