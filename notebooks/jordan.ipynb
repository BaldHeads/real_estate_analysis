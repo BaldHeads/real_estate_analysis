{
 "cells": [
  {
   "cell_type": "markdown",
   "id": "still-fountain",
   "metadata": {},
   "source": [
    "# Data Cleaning\n",
    "\n",
    "note: multiply AGI by 1000"
   ]
  },
  {
   "cell_type": "code",
   "execution_count": 1,
   "id": "grave-tractor",
   "metadata": {},
   "outputs": [],
   "source": [
    "# imports\n",
    "import os \n",
    "import pandas as pd\n",
    "import numpy as np\n",
    "from pathlib import Path\n",
    "import seaborn as sns"
   ]
  },
  {
   "cell_type": "code",
   "execution_count": 2,
   "id": "raising-progress",
   "metadata": {},
   "outputs": [],
   "source": [
    "salary_df = pd.read_csv(\"../data/clean_data/cnc_sal_data.csv\", infer_datetime_format= True, parse_dates= True)"
   ]
  },
  {
   "cell_type": "code",
   "execution_count": 3,
   "id": "downtown-advancement",
   "metadata": {},
   "outputs": [
    {
     "data": {
      "text/html": [
       "<div>\n",
       "<style scoped>\n",
       "    .dataframe tbody tr th:only-of-type {\n",
       "        vertical-align: middle;\n",
       "    }\n",
       "\n",
       "    .dataframe tbody tr th {\n",
       "        vertical-align: top;\n",
       "    }\n",
       "\n",
       "    .dataframe thead th {\n",
       "        text-align: right;\n",
       "    }\n",
       "</style>\n",
       "<table border=\"1\" class=\"dataframe\">\n",
       "  <thead>\n",
       "    <tr style=\"text-align: right;\">\n",
       "      <th></th>\n",
       "      <th>YEAR</th>\n",
       "      <th>ZIP CODE</th>\n",
       "      <th>AGI</th>\n",
       "      <th>returns</th>\n",
       "    </tr>\n",
       "  </thead>\n",
       "  <tbody>\n",
       "    <tr>\n",
       "      <th>0</th>\n",
       "      <td>2007</td>\n",
       "      <td>73301</td>\n",
       "      <td>7230</td>\n",
       "      <td>1798</td>\n",
       "    </tr>\n",
       "    <tr>\n",
       "      <th>1</th>\n",
       "      <td>2007</td>\n",
       "      <td>73949</td>\n",
       "      <td>1915</td>\n",
       "      <td>43</td>\n",
       "    </tr>\n",
       "    <tr>\n",
       "      <th>2</th>\n",
       "      <td>2007</td>\n",
       "      <td>75001</td>\n",
       "      <td>693056</td>\n",
       "      <td>7128</td>\n",
       "    </tr>\n",
       "    <tr>\n",
       "      <th>3</th>\n",
       "      <td>2007</td>\n",
       "      <td>75002</td>\n",
       "      <td>2002247</td>\n",
       "      <td>26669</td>\n",
       "    </tr>\n",
       "    <tr>\n",
       "      <th>4</th>\n",
       "      <td>2007</td>\n",
       "      <td>75006</td>\n",
       "      <td>1053748</td>\n",
       "      <td>21953</td>\n",
       "    </tr>\n",
       "  </tbody>\n",
       "</table>\n",
       "</div>"
      ],
      "text/plain": [
       "   YEAR  ZIP CODE      AGI  returns\n",
       "0  2007     73301     7230     1798\n",
       "1  2007     73949     1915       43\n",
       "2  2007     75001   693056     7128\n",
       "3  2007     75002  2002247    26669\n",
       "4  2007     75006  1053748    21953"
      ]
     },
     "execution_count": 3,
     "metadata": {},
     "output_type": "execute_result"
    }
   ],
   "source": [
    "salary_df[\"returns\"]= salary_df[\"NO. OF RETURNS\"]\n",
    "salary_df.drop(columns= \"NO. OF RETURNS\", inplace=True)\n",
    "salary_df.head()"
   ]
  },
  {
   "cell_type": "code",
   "execution_count": 4,
   "id": "suitable-general",
   "metadata": {},
   "outputs": [],
   "source": [
    "# salary_df.shape\n",
    "# salary_df.dtypes"
   ]
  },
  {
   "cell_type": "code",
   "execution_count": 6,
   "id": "ranking-hampton",
   "metadata": {},
   "outputs": [
    {
     "data": {
      "text/html": [
       "<div>\n",
       "<style scoped>\n",
       "    .dataframe tbody tr th:only-of-type {\n",
       "        vertical-align: middle;\n",
       "    }\n",
       "\n",
       "    .dataframe tbody tr th {\n",
       "        vertical-align: top;\n",
       "    }\n",
       "\n",
       "    .dataframe thead th {\n",
       "        text-align: right;\n",
       "    }\n",
       "</style>\n",
       "<table border=\"1\" class=\"dataframe\">\n",
       "  <thead>\n",
       "    <tr style=\"text-align: right;\">\n",
       "      <th></th>\n",
       "      <th>YEAR</th>\n",
       "      <th>ZIP CODE</th>\n",
       "      <th>AGI</th>\n",
       "      <th>returns</th>\n",
       "      <th>avg_income</th>\n",
       "    </tr>\n",
       "  </thead>\n",
       "  <tbody>\n",
       "    <tr>\n",
       "      <th>0</th>\n",
       "      <td>2007</td>\n",
       "      <td>73301</td>\n",
       "      <td>7230</td>\n",
       "      <td>1798</td>\n",
       "      <td>4021.134594</td>\n",
       "    </tr>\n",
       "    <tr>\n",
       "      <th>1</th>\n",
       "      <td>2007</td>\n",
       "      <td>73949</td>\n",
       "      <td>1915</td>\n",
       "      <td>43</td>\n",
       "      <td>44534.883721</td>\n",
       "    </tr>\n",
       "    <tr>\n",
       "      <th>2</th>\n",
       "      <td>2007</td>\n",
       "      <td>75001</td>\n",
       "      <td>693056</td>\n",
       "      <td>7128</td>\n",
       "      <td>97230.078563</td>\n",
       "    </tr>\n",
       "    <tr>\n",
       "      <th>3</th>\n",
       "      <td>2007</td>\n",
       "      <td>75002</td>\n",
       "      <td>2002247</td>\n",
       "      <td>26669</td>\n",
       "      <td>75077.693202</td>\n",
       "    </tr>\n",
       "    <tr>\n",
       "      <th>4</th>\n",
       "      <td>2007</td>\n",
       "      <td>75006</td>\n",
       "      <td>1053748</td>\n",
       "      <td>21953</td>\n",
       "      <td>48000.182207</td>\n",
       "    </tr>\n",
       "  </tbody>\n",
       "</table>\n",
       "</div>"
      ],
      "text/plain": [
       "   YEAR  ZIP CODE      AGI  returns    avg_income\n",
       "0  2007     73301     7230     1798   4021.134594\n",
       "1  2007     73949     1915       43  44534.883721\n",
       "2  2007     75001   693056     7128  97230.078563\n",
       "3  2007     75002  2002247    26669  75077.693202\n",
       "4  2007     75006  1053748    21953  48000.182207"
      ]
     },
     "execution_count": 6,
     "metadata": {},
     "output_type": "execute_result"
    }
   ],
   "source": [
    "salary_df[\"avg_income\"]= salary_df[\"AGI\"]* 1000/ salary_df[\"returns\"]\n",
    "salary_df.head()"
   ]
  },
  {
   "cell_type": "code",
   "execution_count": 7,
   "id": "civilian-neighborhood",
   "metadata": {},
   "outputs": [
    {
     "name": "stderr",
     "output_type": "stream",
     "text": [
      "<ipython-input-7-d7a7bf6f67b2>:2: SettingWithCopyWarning: \n",
      "A value is trying to be set on a copy of a slice from a DataFrame\n",
      "\n",
      "See the caveats in the documentation: https://pandas.pydata.org/pandas-docs/stable/user_guide/indexing.html#returning-a-view-versus-a-copy\n",
      "  avg_income_df.dropna(inplace=True)\n"
     ]
    },
    {
     "data": {
      "text/html": [
       "<div>\n",
       "<style scoped>\n",
       "    .dataframe tbody tr th:only-of-type {\n",
       "        vertical-align: middle;\n",
       "    }\n",
       "\n",
       "    .dataframe tbody tr th {\n",
       "        vertical-align: top;\n",
       "    }\n",
       "\n",
       "    .dataframe thead th {\n",
       "        text-align: right;\n",
       "    }\n",
       "</style>\n",
       "<table border=\"1\" class=\"dataframe\">\n",
       "  <thead>\n",
       "    <tr style=\"text-align: right;\">\n",
       "      <th></th>\n",
       "      <th>YEAR</th>\n",
       "      <th>ZIP CODE</th>\n",
       "      <th>avg_income</th>\n",
       "    </tr>\n",
       "  </thead>\n",
       "  <tbody>\n",
       "    <tr>\n",
       "      <th>0</th>\n",
       "      <td>2007</td>\n",
       "      <td>73301</td>\n",
       "      <td>4021.134594</td>\n",
       "    </tr>\n",
       "    <tr>\n",
       "      <th>1</th>\n",
       "      <td>2007</td>\n",
       "      <td>73949</td>\n",
       "      <td>44534.883721</td>\n",
       "    </tr>\n",
       "    <tr>\n",
       "      <th>2</th>\n",
       "      <td>2007</td>\n",
       "      <td>75001</td>\n",
       "      <td>97230.078563</td>\n",
       "    </tr>\n",
       "    <tr>\n",
       "      <th>3</th>\n",
       "      <td>2007</td>\n",
       "      <td>75002</td>\n",
       "      <td>75077.693202</td>\n",
       "    </tr>\n",
       "    <tr>\n",
       "      <th>4</th>\n",
       "      <td>2007</td>\n",
       "      <td>75006</td>\n",
       "      <td>48000.182207</td>\n",
       "    </tr>\n",
       "  </tbody>\n",
       "</table>\n",
       "</div>"
      ],
      "text/plain": [
       "   YEAR  ZIP CODE    avg_income\n",
       "0  2007     73301   4021.134594\n",
       "1  2007     73949  44534.883721\n",
       "2  2007     75001  97230.078563\n",
       "3  2007     75002  75077.693202\n",
       "4  2007     75006  48000.182207"
      ]
     },
     "execution_count": 7,
     "metadata": {},
     "output_type": "execute_result"
    }
   ],
   "source": [
    "avg_income_df = salary_df[[\"YEAR\", \"ZIP CODE\", \"avg_income\"]]\n",
    "avg_income_df.dropna(inplace=True)\n",
    "avg_income_df.head()"
   ]
  },
  {
   "cell_type": "code",
   "execution_count": 8,
   "id": "inside-significance",
   "metadata": {},
   "outputs": [],
   "source": [
    "avg_income_df.to_csv(path_or_buf=\"../data/clean_data/avg_income.csv\", index=False)"
   ]
  },
  {
   "cell_type": "code",
   "execution_count": null,
   "id": "artificial-graphics",
   "metadata": {},
   "outputs": [],
   "source": []
  }
 ],
 "metadata": {
  "kernelspec": {
   "display_name": "Python 3",
   "language": "python",
   "name": "python3"
  },
  "language_info": {
   "codemirror_mode": {
    "name": "ipython",
    "version": 3
   },
   "file_extension": ".py",
   "mimetype": "text/x-python",
   "name": "python",
   "nbconvert_exporter": "python",
   "pygments_lexer": "ipython3",
   "version": "3.8.5"
  }
 },
 "nbformat": 4,
 "nbformat_minor": 5
}
