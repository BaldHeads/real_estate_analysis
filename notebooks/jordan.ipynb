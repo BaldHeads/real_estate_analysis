{
 "cells": [
  {
   "cell_type": "markdown",
   "id": "uniform-hammer",
   "metadata": {},
   "source": [
    "# Data Cleaning\n",
    "\n",
    "note: multiply AGI by 1000"
   ]
  },
  {
   "cell_type": "code",
   "execution_count": 7,
   "id": "widespread-professional",
   "metadata": {},
   "outputs": [],
   "source": [
    "# imports\n",
    "import os \n",
    "import pandas as pd\n",
    "import numpy as np\n",
    "from pathlib import Path\n",
    "import seaborn as sns\n"
   ]
  },
  {
   "cell_type": "code",
   "execution_count": 19,
   "id": "short-marking",
   "metadata": {},
   "outputs": [],
   "source": [
    "salary_df = pd.read_csv(\"../data/clean_data/cnc_sal_data.csv\", infer_datetime_format= True, parse_dates= True)"
   ]
  },
  {
   "cell_type": "code",
   "execution_count": 20,
   "id": "dated-windows",
   "metadata": {},
   "outputs": [
    {
     "data": {
      "text/html": [
       "<div>\n",
       "<style scoped>\n",
       "    .dataframe tbody tr th:only-of-type {\n",
       "        vertical-align: middle;\n",
       "    }\n",
       "\n",
       "    .dataframe tbody tr th {\n",
       "        vertical-align: top;\n",
       "    }\n",
       "\n",
       "    .dataframe thead th {\n",
       "        text-align: right;\n",
       "    }\n",
       "</style>\n",
       "<table border=\"1\" class=\"dataframe\">\n",
       "  <thead>\n",
       "    <tr style=\"text-align: right;\">\n",
       "      <th></th>\n",
       "      <th>YEAR</th>\n",
       "      <th>ZIP CODE</th>\n",
       "      <th>NO. OF RETURNS</th>\n",
       "      <th>AGI</th>\n",
       "    </tr>\n",
       "  </thead>\n",
       "  <tbody>\n",
       "    <tr>\n",
       "      <th>0</th>\n",
       "      <td>2007</td>\n",
       "      <td>73301</td>\n",
       "      <td>1798</td>\n",
       "      <td>7230</td>\n",
       "    </tr>\n",
       "    <tr>\n",
       "      <th>1</th>\n",
       "      <td>2007</td>\n",
       "      <td>73949</td>\n",
       "      <td>43</td>\n",
       "      <td>1915</td>\n",
       "    </tr>\n",
       "    <tr>\n",
       "      <th>2</th>\n",
       "      <td>2007</td>\n",
       "      <td>75001</td>\n",
       "      <td>7128</td>\n",
       "      <td>693056</td>\n",
       "    </tr>\n",
       "    <tr>\n",
       "      <th>3</th>\n",
       "      <td>2007</td>\n",
       "      <td>75002</td>\n",
       "      <td>26669</td>\n",
       "      <td>2002247</td>\n",
       "    </tr>\n",
       "    <tr>\n",
       "      <th>4</th>\n",
       "      <td>2007</td>\n",
       "      <td>75006</td>\n",
       "      <td>21953</td>\n",
       "      <td>1053748</td>\n",
       "    </tr>\n",
       "  </tbody>\n",
       "</table>\n",
       "</div>"
      ],
      "text/plain": [
       "   YEAR  ZIP CODE  NO. OF RETURNS      AGI\n",
       "0  2007     73301            1798     7230\n",
       "1  2007     73949              43     1915\n",
       "2  2007     75001            7128   693056\n",
       "3  2007     75002           26669  2002247\n",
       "4  2007     75006           21953  1053748"
      ]
     },
     "execution_count": 20,
     "metadata": {},
     "output_type": "execute_result"
    }
   ],
   "source": [
    "salary_df.head()"
   ]
  },
  {
   "cell_type": "code",
   "execution_count": 21,
   "id": "super-circuit",
   "metadata": {},
   "outputs": [],
   "source": [
    "# salary_df.shape\n",
    "# salary_df.dtypes"
   ]
  },
  {
   "cell_type": "code",
   "execution_count": 22,
   "id": "minimal-stability",
   "metadata": {},
   "outputs": [
    {
     "data": {
      "text/html": [
       "<div>\n",
       "<style scoped>\n",
       "    .dataframe tbody tr th:only-of-type {\n",
       "        vertical-align: middle;\n",
       "    }\n",
       "\n",
       "    .dataframe tbody tr th {\n",
       "        vertical-align: top;\n",
       "    }\n",
       "\n",
       "    .dataframe thead th {\n",
       "        text-align: right;\n",
       "    }\n",
       "</style>\n",
       "<table border=\"1\" class=\"dataframe\">\n",
       "  <thead>\n",
       "    <tr style=\"text-align: right;\">\n",
       "      <th></th>\n",
       "      <th>YEAR</th>\n",
       "      <th>ZIP CODE</th>\n",
       "      <th>NO. OF RETURNS</th>\n",
       "      <th>AGI</th>\n",
       "    </tr>\n",
       "  </thead>\n",
       "  <tbody>\n",
       "    <tr>\n",
       "      <th>0</th>\n",
       "      <td>2007</td>\n",
       "      <td>73301</td>\n",
       "      <td>1798</td>\n",
       "      <td>7230000</td>\n",
       "    </tr>\n",
       "    <tr>\n",
       "      <th>1</th>\n",
       "      <td>2007</td>\n",
       "      <td>73949</td>\n",
       "      <td>43</td>\n",
       "      <td>1915000</td>\n",
       "    </tr>\n",
       "    <tr>\n",
       "      <th>2</th>\n",
       "      <td>2007</td>\n",
       "      <td>75001</td>\n",
       "      <td>7128</td>\n",
       "      <td>693056000</td>\n",
       "    </tr>\n",
       "    <tr>\n",
       "      <th>3</th>\n",
       "      <td>2007</td>\n",
       "      <td>75002</td>\n",
       "      <td>26669</td>\n",
       "      <td>2002247000</td>\n",
       "    </tr>\n",
       "    <tr>\n",
       "      <th>4</th>\n",
       "      <td>2007</td>\n",
       "      <td>75006</td>\n",
       "      <td>21953</td>\n",
       "      <td>1053748000</td>\n",
       "    </tr>\n",
       "  </tbody>\n",
       "</table>\n",
       "</div>"
      ],
      "text/plain": [
       "   YEAR  ZIP CODE  NO. OF RETURNS         AGI\n",
       "0  2007     73301            1798     7230000\n",
       "1  2007     73949              43     1915000\n",
       "2  2007     75001            7128   693056000\n",
       "3  2007     75002           26669  2002247000\n",
       "4  2007     75006           21953  1053748000"
      ]
     },
     "execution_count": 22,
     "metadata": {},
     "output_type": "execute_result"
    }
   ],
   "source": [
    "salary_df[\"AGI\"]= salary_df[\"AGI\"]* 1000\n",
    "salary_df.head()"
   ]
  },
  {
   "cell_type": "code",
   "execution_count": null,
   "id": "retained-helen",
   "metadata": {},
   "outputs": [],
   "source": []
  }
 ],
 "metadata": {
  "kernelspec": {
   "display_name": "Python 3",
   "language": "python",
   "name": "python3"
  },
  "language_info": {
   "codemirror_mode": {
    "name": "ipython",
    "version": 3
   },
   "file_extension": ".py",
   "mimetype": "text/x-python",
   "name": "python",
   "nbconvert_exporter": "python",
   "pygments_lexer": "ipython3",
   "version": "3.8.5"
  }
 },
 "nbformat": 4,
 "nbformat_minor": 5
}
