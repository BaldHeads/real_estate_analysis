{
 "cells": [
  {
   "cell_type": "code",
   "execution_count": 26,
   "metadata": {},
   "outputs": [],
   "source": [
    "import numpy as np\n",
    "import pandas as pd\n",
    "import os\n",
    "from pathlib import Path\n",
    "import json\n",
    "import matplotlib.pyplot as plt\n",
    "import plotly.express as px\n",
    "import imageio\n",
    "import warnings\n",
    "warnings.filterwarnings('ignore')"
   ]
  },
  {
   "cell_type": "code",
   "execution_count": 27,
   "metadata": {},
   "outputs": [
    {
     "data": {
      "text/html": [
       "<div>\n",
       "<style scoped>\n",
       "    .dataframe tbody tr th:only-of-type {\n",
       "        vertical-align: middle;\n",
       "    }\n",
       "\n",
       "    .dataframe tbody tr th {\n",
       "        vertical-align: top;\n",
       "    }\n",
       "\n",
       "    .dataframe thead th {\n",
       "        text-align: right;\n",
       "    }\n",
       "</style>\n",
       "<table border=\"1\" class=\"dataframe\">\n",
       "  <thead>\n",
       "    <tr style=\"text-align: right;\">\n",
       "      <th></th>\n",
       "      <th>region</th>\n",
       "      <th>YEAR</th>\n",
       "      <th>avg_value</th>\n",
       "    </tr>\n",
       "  </thead>\n",
       "  <tbody>\n",
       "    <tr>\n",
       "      <th>0</th>\n",
       "      <td>Austin</td>\n",
       "      <td>1996</td>\n",
       "      <td>165680.250000</td>\n",
       "    </tr>\n",
       "    <tr>\n",
       "      <th>1</th>\n",
       "      <td>Austin</td>\n",
       "      <td>1997</td>\n",
       "      <td>168675.916667</td>\n",
       "    </tr>\n",
       "    <tr>\n",
       "      <th>2</th>\n",
       "      <td>Austin</td>\n",
       "      <td>1998</td>\n",
       "      <td>172097.333333</td>\n",
       "    </tr>\n",
       "    <tr>\n",
       "      <th>3</th>\n",
       "      <td>Austin</td>\n",
       "      <td>1999</td>\n",
       "      <td>173058.083333</td>\n",
       "    </tr>\n",
       "    <tr>\n",
       "      <th>4</th>\n",
       "      <td>Austin</td>\n",
       "      <td>2000</td>\n",
       "      <td>187038.750000</td>\n",
       "    </tr>\n",
       "  </tbody>\n",
       "</table>\n",
       "</div>"
      ],
      "text/plain": [
       "   region  YEAR      avg_value\n",
       "0  Austin  1996  165680.250000\n",
       "1  Austin  1997  168675.916667\n",
       "2  Austin  1998  172097.333333\n",
       "3  Austin  1999  173058.083333\n",
       "4  Austin  2000  187038.750000"
      ]
     },
     "execution_count": 27,
     "metadata": {},
     "output_type": "execute_result"
    }
   ],
   "source": [
    "#Read in the data from the raw Zillow CSV for ZALL\n",
    "zillow_path = Path(\"../data/clean_data/zall_metro.csv\")\n",
    "zillow_df = pd.read_csv(zillow_path, infer_datetime_format=True, parse_dates=True)\n",
    "\n",
    "zillow_df[\"date\"] = pd.to_datetime(zillow_df[\"date\"])\n",
    "zillow_df[\"region\"] = zillow_df[\"region\"].str.replace(\", TX\", \"\", regex=False)\n",
    "zillow_year_df = zillow_df.groupby([\"region\",zillow_df[\"date\"].dt.year]).mean()\n",
    "zillow_year_df = zillow_year_df.reset_index()\n",
    "zillow_year_df = zillow_year_df.rename(columns={\"date\":\"YEAR\"})\n",
    "zillow_year_df.head()"
   ]
  },
  {
   "cell_type": "code",
   "execution_count": 70,
   "metadata": {},
   "outputs": [
    {
     "data": {
      "text/html": [
       "<div>\n",
       "<style scoped>\n",
       "    .dataframe tbody tr th:only-of-type {\n",
       "        vertical-align: middle;\n",
       "    }\n",
       "\n",
       "    .dataframe tbody tr th {\n",
       "        vertical-align: top;\n",
       "    }\n",
       "\n",
       "    .dataframe thead th {\n",
       "        text-align: right;\n",
       "    }\n",
       "</style>\n",
       "<table border=\"1\" class=\"dataframe\">\n",
       "  <thead>\n",
       "    <tr style=\"text-align: right;\">\n",
       "      <th></th>\n",
       "      <th>region</th>\n",
       "      <th>YEAR</th>\n",
       "      <th>avg_value</th>\n",
       "    </tr>\n",
       "  </thead>\n",
       "  <tbody>\n",
       "    <tr>\n",
       "      <th>0</th>\n",
       "      <td>Austin</td>\n",
       "      <td>1996</td>\n",
       "      <td>150266.083333</td>\n",
       "    </tr>\n",
       "    <tr>\n",
       "      <th>1</th>\n",
       "      <td>Austin</td>\n",
       "      <td>1997</td>\n",
       "      <td>154770.250000</td>\n",
       "    </tr>\n",
       "    <tr>\n",
       "      <th>2</th>\n",
       "      <td>Austin</td>\n",
       "      <td>1998</td>\n",
       "      <td>168308.000000</td>\n",
       "    </tr>\n",
       "    <tr>\n",
       "      <th>3</th>\n",
       "      <td>Austin</td>\n",
       "      <td>1999</td>\n",
       "      <td>174688.166667</td>\n",
       "    </tr>\n",
       "    <tr>\n",
       "      <th>4</th>\n",
       "      <td>Austin</td>\n",
       "      <td>2000</td>\n",
       "      <td>185008.916667</td>\n",
       "    </tr>\n",
       "  </tbody>\n",
       "</table>\n",
       "</div>"
      ],
      "text/plain": [
       "   region  YEAR      avg_value\n",
       "0  Austin  1996  150266.083333\n",
       "1  Austin  1997  154770.250000\n",
       "2  Austin  1998  168308.000000\n",
       "3  Austin  1999  174688.166667\n",
       "4  Austin  2000  185008.916667"
      ]
     },
     "execution_count": 70,
     "metadata": {},
     "output_type": "execute_result"
    }
   ],
   "source": [
    "zcon_path = Path(\"../data/clean_data/zcon_metro.csv\")\n",
    "zcon_df = pd.read_csv(zcon_path, infer_datetime_format=True, parse_dates=True)\n",
    "\n",
    "zcon_df[\"date\"] = pd.to_datetime(zcon_df[\"date\"])\n",
    "zcon_df[\"region\"] = zcon_df[\"region\"].str.replace(\", TX\", \"\", regex=False)\n",
    "zcon_year_df = zcon_df.groupby([\"region\",zcon_df[\"date\"].dt.year]).mean()\n",
    "zcon_year_df = zcon_year_df.reset_index()\n",
    "zcon_year_df = zcon_year_df.rename(columns={\"date\":\"YEAR\"})\n",
    "zcon_year_df.head()"
   ]
  },
  {
   "cell_type": "code",
   "execution_count": 71,
   "metadata": {},
   "outputs": [
    {
     "data": {
      "text/html": [
       "<div>\n",
       "<style scoped>\n",
       "    .dataframe tbody tr th:only-of-type {\n",
       "        vertical-align: middle;\n",
       "    }\n",
       "\n",
       "    .dataframe tbody tr th {\n",
       "        vertical-align: top;\n",
       "    }\n",
       "\n",
       "    .dataframe thead th {\n",
       "        text-align: right;\n",
       "    }\n",
       "</style>\n",
       "<table border=\"1\" class=\"dataframe\">\n",
       "  <thead>\n",
       "    <tr style=\"text-align: right;\">\n",
       "      <th></th>\n",
       "      <th>region</th>\n",
       "      <th>YEAR</th>\n",
       "      <th>avg_value</th>\n",
       "    </tr>\n",
       "  </thead>\n",
       "  <tbody>\n",
       "    <tr>\n",
       "      <th>0</th>\n",
       "      <td>Austin</td>\n",
       "      <td>2014</td>\n",
       "      <td>1352.583333</td>\n",
       "    </tr>\n",
       "    <tr>\n",
       "      <th>1</th>\n",
       "      <td>Austin</td>\n",
       "      <td>2015</td>\n",
       "      <td>1433.333333</td>\n",
       "    </tr>\n",
       "    <tr>\n",
       "      <th>2</th>\n",
       "      <td>Austin</td>\n",
       "      <td>2016</td>\n",
       "      <td>1484.500000</td>\n",
       "    </tr>\n",
       "    <tr>\n",
       "      <th>3</th>\n",
       "      <td>Austin</td>\n",
       "      <td>2017</td>\n",
       "      <td>1503.416667</td>\n",
       "    </tr>\n",
       "    <tr>\n",
       "      <th>4</th>\n",
       "      <td>Austin</td>\n",
       "      <td>2018</td>\n",
       "      <td>1539.000000</td>\n",
       "    </tr>\n",
       "  </tbody>\n",
       "</table>\n",
       "</div>"
      ],
      "text/plain": [
       "   region  YEAR    avg_value\n",
       "0  Austin  2014  1352.583333\n",
       "1  Austin  2015  1433.333333\n",
       "2  Austin  2016  1484.500000\n",
       "3  Austin  2017  1503.416667\n",
       "4  Austin  2018  1539.000000"
      ]
     },
     "execution_count": 71,
     "metadata": {},
     "output_type": "execute_result"
    }
   ],
   "source": [
    "zrent_path = Path(\"../data/clean_data/rsna_metro.csv\")\n",
    "zrent_df = pd.read_csv(zrent_path, infer_datetime_format=True, parse_dates=True)\n",
    "\n",
    "zrent_df[\"date\"] = pd.to_datetime(zrent_df[\"date\"])\n",
    "zrent_df[\"region\"] = zrent_df[\"region\"].str.replace(\", TX\", \"\", regex=False)\n",
    "zrent_year_df = zrent_df.groupby([\"region\",zrent_df[\"date\"].dt.year]).mean()\n",
    "zrent_year_df = zrent_year_df.reset_index()\n",
    "zrent_year_df = zrent_year_df.rename(columns={\"date\":\"YEAR\"})\n",
    "zrent_year_df.head()"
   ]
  },
  {
   "cell_type": "code",
   "execution_count": 72,
   "metadata": {},
   "outputs": [
    {
     "data": {
      "text/html": [
       "<div>\n",
       "<style scoped>\n",
       "    .dataframe tbody tr th:only-of-type {\n",
       "        vertical-align: middle;\n",
       "    }\n",
       "\n",
       "    .dataframe tbody tr th {\n",
       "        vertical-align: top;\n",
       "    }\n",
       "\n",
       "    .dataframe thead th {\n",
       "        text-align: right;\n",
       "    }\n",
       "</style>\n",
       "<table border=\"1\" class=\"dataframe\">\n",
       "  <thead>\n",
       "    <tr style=\"text-align: right;\">\n",
       "      <th></th>\n",
       "      <th>YEAR</th>\n",
       "      <th>ZIP CODE</th>\n",
       "      <th>NO. OF RETURNS</th>\n",
       "      <th>AGI</th>\n",
       "    </tr>\n",
       "  </thead>\n",
       "  <tbody>\n",
       "    <tr>\n",
       "      <th>0</th>\n",
       "      <td>2007</td>\n",
       "      <td>73301</td>\n",
       "      <td>1798</td>\n",
       "      <td>7230</td>\n",
       "    </tr>\n",
       "    <tr>\n",
       "      <th>1</th>\n",
       "      <td>2007</td>\n",
       "      <td>73949</td>\n",
       "      <td>43</td>\n",
       "      <td>1915</td>\n",
       "    </tr>\n",
       "    <tr>\n",
       "      <th>2</th>\n",
       "      <td>2007</td>\n",
       "      <td>75001</td>\n",
       "      <td>7128</td>\n",
       "      <td>693056</td>\n",
       "    </tr>\n",
       "    <tr>\n",
       "      <th>3</th>\n",
       "      <td>2007</td>\n",
       "      <td>75002</td>\n",
       "      <td>26669</td>\n",
       "      <td>2002247</td>\n",
       "    </tr>\n",
       "    <tr>\n",
       "      <th>4</th>\n",
       "      <td>2007</td>\n",
       "      <td>75006</td>\n",
       "      <td>21953</td>\n",
       "      <td>1053748</td>\n",
       "    </tr>\n",
       "  </tbody>\n",
       "</table>\n",
       "</div>"
      ],
      "text/plain": [
       "   YEAR  ZIP CODE  NO. OF RETURNS      AGI\n",
       "0  2007     73301            1798     7230\n",
       "1  2007     73949              43     1915\n",
       "2  2007     75001            7128   693056\n",
       "3  2007     75002           26669  2002247\n",
       "4  2007     75006           21953  1053748"
      ]
     },
     "execution_count": 72,
     "metadata": {},
     "output_type": "execute_result"
    }
   ],
   "source": [
    "#Read in the salary data from the IRS csv\n",
    "salary_df = pd.read_csv(\"../data/clean_data/cnc_sal_data.csv\")\n",
    "salary_df.head()"
   ]
  },
  {
   "cell_type": "code",
   "execution_count": 73,
   "metadata": {},
   "outputs": [
    {
     "data": {
      "text/html": [
       "<div>\n",
       "<style scoped>\n",
       "    .dataframe tbody tr th:only-of-type {\n",
       "        vertical-align: middle;\n",
       "    }\n",
       "\n",
       "    .dataframe tbody tr th {\n",
       "        vertical-align: top;\n",
       "    }\n",
       "\n",
       "    .dataframe thead th {\n",
       "        text-align: right;\n",
       "    }\n",
       "</style>\n",
       "<table border=\"1\" class=\"dataframe\">\n",
       "  <thead>\n",
       "    <tr style=\"text-align: right;\">\n",
       "      <th></th>\n",
       "      <th>ZIP CODE</th>\n",
       "      <th>region</th>\n",
       "    </tr>\n",
       "  </thead>\n",
       "  <tbody>\n",
       "    <tr>\n",
       "      <th>0</th>\n",
       "      <td>77002</td>\n",
       "      <td>Houston</td>\n",
       "    </tr>\n",
       "    <tr>\n",
       "      <th>1</th>\n",
       "      <td>77003</td>\n",
       "      <td>Houston</td>\n",
       "    </tr>\n",
       "    <tr>\n",
       "      <th>2</th>\n",
       "      <td>77004</td>\n",
       "      <td>Houston</td>\n",
       "    </tr>\n",
       "    <tr>\n",
       "      <th>3</th>\n",
       "      <td>77005</td>\n",
       "      <td>Houston</td>\n",
       "    </tr>\n",
       "    <tr>\n",
       "      <th>4</th>\n",
       "      <td>77006</td>\n",
       "      <td>Houston</td>\n",
       "    </tr>\n",
       "  </tbody>\n",
       "</table>\n",
       "</div>"
      ],
      "text/plain": [
       "   ZIP CODE   region\n",
       "0     77002  Houston\n",
       "1     77003  Houston\n",
       "2     77004  Houston\n",
       "3     77005  Houston\n",
       "4     77006  Houston"
      ]
     },
     "execution_count": 73,
     "metadata": {},
     "output_type": "execute_result"
    }
   ],
   "source": [
    "zip_metro_df = pd.read_csv(\"../data/clean_data/zipcode_metro.csv\")\n",
    "zip_metro_df = zip_metro_df.rename(columns={\"ZIPCODE\" : \"ZIP CODE\", \"ZONE\":\"region\"})\n",
    "zip_metro_df.head()"
   ]
  },
  {
   "cell_type": "code",
   "execution_count": 74,
   "metadata": {},
   "outputs": [
    {
     "data": {
      "text/html": [
       "<div>\n",
       "<style scoped>\n",
       "    .dataframe tbody tr th:only-of-type {\n",
       "        vertical-align: middle;\n",
       "    }\n",
       "\n",
       "    .dataframe tbody tr th {\n",
       "        vertical-align: top;\n",
       "    }\n",
       "\n",
       "    .dataframe thead th {\n",
       "        text-align: right;\n",
       "    }\n",
       "</style>\n",
       "<table border=\"1\" class=\"dataframe\">\n",
       "  <thead>\n",
       "    <tr style=\"text-align: right;\">\n",
       "      <th></th>\n",
       "      <th>ZIP CODE</th>\n",
       "      <th>region</th>\n",
       "      <th>YEAR</th>\n",
       "      <th>NO. OF RETURNS</th>\n",
       "      <th>AGI</th>\n",
       "    </tr>\n",
       "  </thead>\n",
       "  <tbody>\n",
       "    <tr>\n",
       "      <th>0</th>\n",
       "      <td>77002</td>\n",
       "      <td>Houston</td>\n",
       "      <td>2007</td>\n",
       "      <td>3370</td>\n",
       "      <td>819744</td>\n",
       "    </tr>\n",
       "    <tr>\n",
       "      <th>1</th>\n",
       "      <td>77002</td>\n",
       "      <td>Houston</td>\n",
       "      <td>2008</td>\n",
       "      <td>3599</td>\n",
       "      <td>1259964</td>\n",
       "    </tr>\n",
       "    <tr>\n",
       "      <th>2</th>\n",
       "      <td>77002</td>\n",
       "      <td>Houston</td>\n",
       "      <td>2009</td>\n",
       "      <td>3816</td>\n",
       "      <td>978793</td>\n",
       "    </tr>\n",
       "    <tr>\n",
       "      <th>3</th>\n",
       "      <td>77002</td>\n",
       "      <td>Houston</td>\n",
       "      <td>2010</td>\n",
       "      <td>3952</td>\n",
       "      <td>1996053</td>\n",
       "    </tr>\n",
       "    <tr>\n",
       "      <th>4</th>\n",
       "      <td>77002</td>\n",
       "      <td>Houston</td>\n",
       "      <td>2011</td>\n",
       "      <td>4562</td>\n",
       "      <td>1595344</td>\n",
       "    </tr>\n",
       "  </tbody>\n",
       "</table>\n",
       "</div>"
      ],
      "text/plain": [
       "   ZIP CODE   region  YEAR  NO. OF RETURNS      AGI\n",
       "0     77002  Houston  2007            3370   819744\n",
       "1     77002  Houston  2008            3599  1259964\n",
       "2     77002  Houston  2009            3816   978793\n",
       "3     77002  Houston  2010            3952  1996053\n",
       "4     77002  Houston  2011            4562  1595344"
      ]
     },
     "execution_count": 74,
     "metadata": {},
     "output_type": "execute_result"
    }
   ],
   "source": [
    "#Merge the salary data with the zip_metro data\n",
    "salary_metro_df = pd.merge(zip_metro_df, salary_df, on=['ZIP CODE']).dropna()\n",
    "salary_metro_df.head()"
   ]
  },
  {
   "cell_type": "code",
   "execution_count": 75,
   "metadata": {},
   "outputs": [
    {
     "data": {
      "text/html": [
       "<div>\n",
       "<style scoped>\n",
       "    .dataframe tbody tr th:only-of-type {\n",
       "        vertical-align: middle;\n",
       "    }\n",
       "\n",
       "    .dataframe tbody tr th {\n",
       "        vertical-align: top;\n",
       "    }\n",
       "\n",
       "    .dataframe thead th {\n",
       "        text-align: right;\n",
       "    }\n",
       "</style>\n",
       "<table border=\"1\" class=\"dataframe\">\n",
       "  <thead>\n",
       "    <tr style=\"text-align: right;\">\n",
       "      <th></th>\n",
       "      <th>region</th>\n",
       "      <th>YEAR</th>\n",
       "      <th>ZIP CODE</th>\n",
       "      <th>NO. OF RETURNS</th>\n",
       "      <th>AGI</th>\n",
       "      <th>Avg_AGI</th>\n",
       "    </tr>\n",
       "  </thead>\n",
       "  <tbody>\n",
       "    <tr>\n",
       "      <th>0</th>\n",
       "      <td>Austin</td>\n",
       "      <td>2007</td>\n",
       "      <td>3306167</td>\n",
       "      <td>472473</td>\n",
       "      <td>32099099</td>\n",
       "      <td>67938.483257</td>\n",
       "    </tr>\n",
       "    <tr>\n",
       "      <th>1</th>\n",
       "      <td>Austin</td>\n",
       "      <td>2008</td>\n",
       "      <td>3306167</td>\n",
       "      <td>465682</td>\n",
       "      <td>30769974</td>\n",
       "      <td>66075.076984</td>\n",
       "    </tr>\n",
       "    <tr>\n",
       "      <th>2</th>\n",
       "      <td>Austin</td>\n",
       "      <td>2009</td>\n",
       "      <td>3306167</td>\n",
       "      <td>479563</td>\n",
       "      <td>30456486</td>\n",
       "      <td>63508.831999</td>\n",
       "    </tr>\n",
       "    <tr>\n",
       "      <th>3</th>\n",
       "      <td>Austin</td>\n",
       "      <td>2010</td>\n",
       "      <td>3306167</td>\n",
       "      <td>495992</td>\n",
       "      <td>33362017</td>\n",
       "      <td>67263.215939</td>\n",
       "    </tr>\n",
       "    <tr>\n",
       "      <th>4</th>\n",
       "      <td>Austin</td>\n",
       "      <td>2011</td>\n",
       "      <td>3306167</td>\n",
       "      <td>516754</td>\n",
       "      <td>36237502</td>\n",
       "      <td>70125.247216</td>\n",
       "    </tr>\n",
       "  </tbody>\n",
       "</table>\n",
       "</div>"
      ],
      "text/plain": [
       "   region  YEAR  ZIP CODE  NO. OF RETURNS       AGI       Avg_AGI\n",
       "0  Austin  2007   3306167          472473  32099099  67938.483257\n",
       "1  Austin  2008   3306167          465682  30769974  66075.076984\n",
       "2  Austin  2009   3306167          479563  30456486  63508.831999\n",
       "3  Austin  2010   3306167          495992  33362017  67263.215939\n",
       "4  Austin  2011   3306167          516754  36237502  70125.247216"
      ]
     },
     "execution_count": 75,
     "metadata": {},
     "output_type": "execute_result"
    }
   ],
   "source": [
    "#Group by region\n",
    "salary_metro_df = salary_metro_df.groupby([\"region\",\"YEAR\"]).sum()\n",
    "salary_metro_df[\"Avg_AGI\"] = salary_metro_df[\"AGI\"] / salary_metro_df[\"NO. OF RETURNS\"] * 1000\n",
    "salary_metro_df = salary_metro_df.reset_index()\n",
    "salary_metro_df.head()"
   ]
  },
  {
   "cell_type": "code",
   "execution_count": 76,
   "metadata": {},
   "outputs": [],
   "source": [
    "#Merge the Zillow data with the salary data\n",
    "zall_combined_df = pd.merge(salary_metro_df, zillow_year_df, on=['region','YEAR'])\n",
    "zall_combined_df[\"OP_RATIO\"] = zall_combined_df['Avg_AGI'] / zall_combined_df[\"avg_value\"]\n",
    "zall_combined_df = zall_combined_df.drop(columns=[\"AGI\",\"NO. OF RETURNS\",\"Avg_AGI\",\"avg_value\",\"ZIP CODE\"])\n",
    "\n",
    "zcon_combined_df = pd.merge(salary_metro_df, zcon_year_df, on=['region','YEAR'])\n",
    "zcon_combined_df[\"OP_RATIO\"] = zcon_combined_df['Avg_AGI'] / zcon_combined_df[\"avg_value\"]\n",
    "zcon_combined_df = zcon_combined_df.drop(columns=[\"AGI\",\"NO. OF RETURNS\",\"Avg_AGI\",\"avg_value\",\"ZIP CODE\"])\n",
    "\n",
    "zrent_combined_df = pd.merge(salary_metro_df, zrent_year_df, on=['region','YEAR'])\n",
    "zrent_combined_df[\"OP_RATIO\"] = zrent_combined_df['Avg_AGI'] / zrent_combined_df[\"avg_value\"]\n",
    "zrent_combined_df = zrent_combined_df.drop(columns=[\"AGI\",\"NO. OF RETURNS\",\"Avg_AGI\",\"avg_value\",\"ZIP CODE\"])"
   ]
  },
  {
   "cell_type": "code",
   "execution_count": 77,
   "metadata": {},
   "outputs": [
    {
     "data": {
      "text/plain": [
       "<matplotlib.legend.Legend at 0x281cff8f048>"
      ]
     },
     "execution_count": 77,
     "metadata": {},
     "output_type": "execute_result"
    },
    {
     "data": {
      "image/png": "[encoded data removed]",
      "text/plain": [
       "<Figure size 432x288 with 1 Axes>"
      ]
     },
     "metadata": {
      "needs_background": "light"
     },
     "output_type": "display_data"
    }
   ],
   "source": [
    "ax = zall_combined_df[zall_combined_df[\"region\"]==\"Houston\"].plot(x=\"YEAR\",y=\"OP_RATIO\", title=\"Opportunity Ratio by City Over Time for ZALL\")\n",
    "zall_combined_df[zall_combined_df[\"region\"]==\"San Antonio\"].plot(x=\"YEAR\",y=\"OP_RATIO\", ax=ax)\n",
    "zall_combined_df[zall_combined_df[\"region\"]==\"Austin\"].plot(x=\"YEAR\",y=\"OP_RATIO\", ax=ax)\n",
    "zall_combined_df[zall_combined_df[\"region\"]==\"Dallas-Fort Worth\"].plot(x=\"YEAR\",y=\"OP_RATIO\", ax=ax)\n",
    "ax.legend([\"Houston\", \"San Antonio\", \"Austin\", \"Dallas-Fort Worth\"])"
   ]
  },
  {
   "cell_type": "code",
   "execution_count": 78,
   "metadata": {},
   "outputs": [
    {
     "data": {
      "text/plain": [
       "<matplotlib.legend.Legend at 0x281d0036dc8>"
      ]
     },
     "execution_count": 78,
     "metadata": {},
     "output_type": "execute_result"
    },
    {
     "data": {
      "image/png": "[encoded data removed]",
      "text/plain": [
       "<Figure size 432x288 with 1 Axes>"
      ]
     },
     "metadata": {
      "needs_background": "light"
     },
     "output_type": "display_data"
    }
   ],
   "source": [
    "ax = zcon_combined_df[zcon_combined_df[\"region\"]==\"Houston\"].plot(x=\"YEAR\",y=\"OP_RATIO\", title=\"Opportunity Ratio by City Over Time for ZCON\")\n",
    "zcon_combined_df[zcon_combined_df[\"region\"]==\"San Antonio\"].plot(x=\"YEAR\",y=\"OP_RATIO\", ax=ax)\n",
    "zcon_combined_df[zcon_combined_df[\"region\"]==\"Austin\"].plot(x=\"YEAR\",y=\"OP_RATIO\", ax=ax)\n",
    "zcon_combined_df[zcon_combined_df[\"region\"]==\"Dallas-Fort Worth\"].plot(x=\"YEAR\",y=\"OP_RATIO\", ax=ax)\n",
    "ax.legend([\"Houston\", \"San Antonio\", \"Austin\", \"Dallas-Fort Worth\"])"
   ]
  },
  {
   "cell_type": "code",
   "execution_count": 81,
   "metadata": {},
   "outputs": [
    {
     "data": {
      "text/plain": [
       "<matplotlib.legend.Legend at 0x281d01487c8>"
      ]
     },
     "execution_count": 81,
     "metadata": {},
     "output_type": "execute_result"
    },
    {
     "data": {
      "image/png": "[encoded data removed]",
      "text/plain": [
       "<Figure size 432x288 with 1 Axes>"
      ]
     },
     "metadata": {
      "needs_background": "light"
     },
     "output_type": "display_data"
    }
   ],
   "source": [
    "ax = zrent_combined_df[zrent_combined_df[\"region\"]==\"Houston\"].plot(x=\"YEAR\",y=\"OP_RATIO\", title=\"Opportunity Ratio by City Over Time for ZRENT\")\n",
    "zrent_combined_df[zrent_combined_df[\"region\"]==\"San Antonio\"].plot(x=\"YEAR\",y=\"OP_RATIO\", ax=ax)\n",
    "zrent_combined_df[zrent_combined_df[\"region\"]==\"Austin\"].plot(x=\"YEAR\",y=\"OP_RATIO\", ax=ax)\n",
    "zrent_combined_df[zrent_combined_df[\"region\"]==\"Dallas-Fort Worth\"].plot(x=\"YEAR\",y=\"OP_RATIO\", ax=ax)\n",
    "ax.legend([\"Houston\", \"San Antonio\", \"Austin\", \"Dallas-Fort Worth\"])"
   ]
  },
  {
   "cell_type": "code",
   "execution_count": null,
   "metadata": {},
   "outputs": [],
   "source": []
  }
 ],
 "metadata": {
  "kernelspec": {
   "display_name": "Python 3",
   "language": "python",
   "name": "python3"
  },
  "language_info": {
   "codemirror_mode": {
    "name": "ipython",
    "version": 3
   },
   "file_extension": ".py",
   "mimetype": "text/x-python",
   "name": "python",
   "nbconvert_exporter": "python",
   "pygments_lexer": "ipython3",
   "version": "3.8.5"
  }
 },
 "nbformat": 4,
 "nbformat_minor": 4
}
